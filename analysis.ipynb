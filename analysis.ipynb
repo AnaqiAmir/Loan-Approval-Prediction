{
 "cells": [
  {
   "cell_type": "markdown",
   "metadata": {},
   "source": [
    "# Loan Approval EDA\n",
    "This notebook consists of all the EDA that was done for the Loan Approval dataset. The final report for this project can be obtained from `final_report.ipynb`.\n",
    "\n",
    "Here are the descriptions of each feature in the dataset:\n",
    "* `id (int)` - The unique identifier of each loan.\n",
    "* `person_age (int)` - The age of the loan applicant (the person applying for a loan).\n",
    "* `person_income` (int)` - The income of the loan applicant at the time of application.\n",
    "* `person_home_ownership (str)` - The status of home ownership of the loan application a the time of applicaation.\n",
    "* `person_emp_length (float)` - The employment lenght of the loan applicant at the time of application.\n",
    "* `loan_intent (str)` - The intent of the loan.\n",
    "* `loan_grade (str)` - The grade of the loan.\n",
    "* `loan_amnt (int)` - The amount of the loan.\n",
    "* `loan_int_rate (float)` - The interest rate of the loan - rounded to the nearest 2 decimal points.\n",
    "* `loan_percent_income (float)` - The percentage of the loan relative to the applicant's income. Calculated as loan_percent_incomet = loan_amnt / person_income. Rounded to the nearest 2 decimal points.\n",
    "* `cb_person_default_on_file (str)` - Whether the applicant has a history of a loan default.\n",
    "* `cb_person_cred_hist_length (int)` - The credit length history of the applicant (the higher the _____?)\n",
    "* `loan_status (int)` - Whether the loan was approved or not. This is the target variable.\n",
    "\n",
    "These descriptions was done by myself after looking at the data. [Here](https://www.kaggle.com/competitions/playground-series-s4e10/discussion/536984) is another set of description I found on the Kaggle competition's discussion page."
   ]
  },
  {
   "cell_type": "code",
   "execution_count": null,
   "metadata": {},
   "outputs": [],
   "source": [
    "import pandas as pd\n",
    "import pandas_profiling as pp\n",
    "\n",
    "df_train = pd.read_csv(\"data/train.csv\")\n",
    "df_test = pd.read_csv(\"data/test.csv\")"
   ]
  },
  {
   "cell_type": "code",
   "execution_count": 11,
   "metadata": {},
   "outputs": [
    {
     "name": "stderr",
     "output_type": "stream",
     "text": [
      "Summarize dataset: 100%|██████████| 86/86 [00:07<00:00, 11.26it/s, Completed]                                                     \n",
      "Generate report structure: 100%|██████████| 1/1 [00:02<00:00,  2.83s/it]\n",
      "Render HTML: 100%|██████████| 1/1 [00:01<00:00,  1.17s/it]\n",
      "Export report to file: 100%|██████████| 1/1 [00:00<00:00, 208.21it/s]\n"
     ]
    }
   ],
   "source": [
    "profile = pp.ProfileReport(df_train)\n",
    "profile.to_file(\"Loan_Approval_Profiling.html\")"
   ]
  }
 ],
 "metadata": {
  "kernelspec": {
   "display_name": "loan_approval",
   "language": "python",
   "name": "python3"
  },
  "language_info": {
   "codemirror_mode": {
    "name": "ipython",
    "version": 3
   },
   "file_extension": ".py",
   "mimetype": "text/x-python",
   "name": "python",
   "nbconvert_exporter": "python",
   "pygments_lexer": "ipython3",
   "version": "3.12.9"
  }
 },
 "nbformat": 4,
 "nbformat_minor": 2
}
