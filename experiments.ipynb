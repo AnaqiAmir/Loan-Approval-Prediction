{
 "cells": [
  {
   "cell_type": "markdown",
   "metadata": {},
   "source": [
    "# Experiments\n",
    "This is where all data cleaning, feature selection, feature engineering, model building, and model evaluation will happen."
   ]
  },
  {
   "cell_type": "code",
   "execution_count": 92,
   "metadata": {},
   "outputs": [],
   "source": [
    "import pandas as pd\n",
    "import numpy as np\n",
    "import ydata_profiling as pp\n",
    "import matplotlib.pyplot as plt\n",
    "%matplotlib inline\n",
    "import seaborn as sns\n",
    "\n",
    "from typing import List\n",
    "\n",
    "df_train = pd.read_csv(\"data/train.csv\")\n",
    "df_test = pd.read_csv(\"data/test.csv\")"
   ]
  },
  {
   "cell_type": "markdown",
   "metadata": {},
   "source": [
    "## Functions\n",
    "Here I will define all the functions that are to be used in this project. There will be 2 categories of functions:\n",
    "1) Data cleaning functions: These are functions that help handle inconsistencies as discovered in analysis.ipynb.\n",
    "2) Flagging functions: These are functions that return a list of ids of people who have potentially violated some logic as also discovered in analysis.ipynb."
   ]
  },
  {
   "cell_type": "code",
   "execution_count": null,
   "metadata": {},
   "outputs": [],
   "source": [
    "def clean_age(df: pd.DataFrame, age_threshold: int = 100) -> pd.DataFrame:\n",
    "    df.loc[df['person_age'] > age_threshold, 'person_age'] -= age_threshold\n",
    "    return df\n",
    "\n",
    "def clean_emp_length_by_age(df: pd.DataFrame, age_threshold: int = 100) -> pd.DataFrame:\n",
    "    violaters = df[df['person_emp_length']>=100].index\n",
    "    df.drop(violaters, axis=0, inplace=True)\n",
    "    return df\n",
    "\n",
    "def clean_underage_or_impossible_labor(df: pd.DataFrame, min_age_of_employment: int) -> pd.DataFrame:\n",
    "    # Find the age of when the applicant first started working\n",
    "    df['age_of_first_emp'] = df['person_age'] - df['person_emp_length']\n",
    "\n",
    "    # Find applicants that started working before the min age and take the difference\n",
    "    diff = 14 - df[df['age_of_first_emp'] < min_age_of_employment]['age_of_first_emp']\n",
    "\n",
    "    # Subtract diff from person_emp_length\n",
    "    df.loc[diff.index, 'person_emp_length'] = df.loc[diff.index, 'person_emp_length'] - diff\n",
    "\n",
    "    # Verify results\n",
    "    df['age_of_first_emp'] = df['person_age'] - df['person_emp_length']\n",
    "    if len(df[df['age_of_first_emp']<min_age_of_employment]) != 0:\n",
    "        raise ValueError(f\"There exist an applicant that started working before they turned {min_age_of_employment}\")\n",
    "\n",
    "    # Drop age_of_first_emp\n",
    "    df.drop(\"age_of_first_emp\", axis=1, inplace=True)\n",
    "\n",
    "    return df\n",
    "\n",
    "def clean_loan_pct_income(df: pd.DataFrame) -> pd.DataFrame:\n",
    "    df['loan_percent_income'] = round(df['loan_amnt'] / df['person_income'], 2)\n",
    "    return df\n",
    "\n",
    "def clean_credit_history(df: pd.DataFrame, min_age_for_credit: int) -> pd.DataFrame:\n",
    "    # Find age of when the applicant started their credit history\n",
    "    df['years_from_min_credit_age'] = df['person_age'] - min_age_for_credit\n",
    "\n",
    "    # Find applicant that started their credit history prior to the min age and take the difference\n",
    "    diff = df[df['years_from_min_credit_age'] < df['cb_person_cred_hist_length']]\n",
    "\n",
    "    # Assign years_from_min_credit_age to cb_person_cred_hist_length\n",
    "    df.loc[diff.index, 'cb_person_cred_hist_length'] = df.loc[diff.index, 'years_from_min_credit_age']\n",
    "\n",
    "    # Verify results\n",
    "    if len(df[(df['person_age'] - df['cb_person_cred_hist_length']) < min_age_for_credit]) != 0:\n",
    "        raise ValueError(f\"There exist an applicant that started their credit history before they turned {min_age_for_credit}\")\n",
    "\n",
    "    # Drop years_from_min_credit_age\n",
    "    df.drop(\"years_from_min_credit_age\", axis=1, inplace=True)\n",
    "\n",
    "    return df\n",
    "\n",
    "def flag_no_emp_high_income(df: pd.DataFrame) -> List[int]:\n",
    "    return list(df[(df['person_emp_length']==0) & (df['person_income']>0)]['id'])\n",
    "\n",
    "def flag_min_emp_age_violation(df: pd.DataFrame) -> List[int]:\n",
    "    return df[df['person_age'] - df['person_emp_length'] < 14]['id']\n",
    "\n",
    "def flag_inconsistent_loan_percentage(df: pd.DataFrame) -> List[int]:\n",
    "    actual_loan_percent_income = round(df['loan_amnt'] / df['person_income'], 2)\n",
    "    inconsistent_percentages_df = df.iloc[df['loan_percent_income'].compare(actual_loan_percent_income).index]\n",
    "\n",
    "    return inconsistent_percentages_df['id']\n",
    "\n",
    "def flag_credit_history_violation(df: pd.DataFrame, min_age_for_credit: int) -> List[int]:\n",
    "    df['years_from_min_age'] = df['person_age'] - min_age_for_credit\n",
    "    credit_history_violaters_df = df[df['years_from_min_age'] < df['cb_person_cred_hist_length']]\n",
    "\n",
    "    df.drop(\"years_from_min_age\", axis=1, inplace=True)\n",
    "\n",
    "    return credit_history_violaters_df"
   ]
  }
 ],
 "metadata": {
  "kernelspec": {
   "display_name": "loan_approval",
   "language": "python",
   "name": "python3"
  },
  "language_info": {
   "codemirror_mode": {
    "name": "ipython",
    "version": 3
   },
   "file_extension": ".py",
   "mimetype": "text/x-python",
   "name": "python",
   "nbconvert_exporter": "python",
   "pygments_lexer": "ipython3",
   "version": "3.12.9"
  }
 },
 "nbformat": 4,
 "nbformat_minor": 2
}
